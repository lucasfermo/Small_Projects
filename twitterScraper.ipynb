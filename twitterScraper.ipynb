{
 "cells": [
  {
   "cell_type": "code",
   "execution_count": 1,
   "metadata": {
    "collapsed": true
   },
   "outputs": [],
   "source": [
    "import os, sys,math,folium\n",
    "import numpy as np\n",
    "import pandas as pd\n",
    "import seaborn as sns\n",
    "%matplotlib inline\n",
    "import matplotlib.pyplot as plt\n",
    "from datetime import datetime\n",
    "plt.style.use('seaborn')\n",
    "from folium.plugins import HeatMap\n",
    "from geopy import geocoders\n",
    "from geopy.geocoders import GoogleV3\n",
    "import bs4,re,requests\n",
    "from twitter import *\n",
    "\n",
    "ACCESS_TOKEN=\"590115105-7xNnnWAjqIIe2VRrTv0t8LyxOnVcOyjvLFnPoTmi\"\n",
    "ACCESS_SECRET=\"rM2Z3Z0r1lbpoLRlnR0TM41H6OU1zLEjgvSAMvOqWCnEG\"\n",
    "CONSUMER_KEY=\"eIQhBxb612weSsmFCcH5on8Qf\"\n",
    "CONSUMER_SECRET= \"TOYqnffMR5CsgXVzeKPWsd5lZEsNmDSqRbYAhdYPxAfRouuvDs\"\n",
    "\n",
    "twitter=Twitter(auth=OAuth(ACCESS_TOKEN,\n",
    "                      ACCESS_SECRET,\n",
    "                      CONSUMER_KEY,\n",
    "                      CONSUMER_SECRET))\n"
   ]
  },
  {
   "cell_type": "code",
   "execution_count": 10,
   "metadata": {},
   "outputs": [
    {
     "name": "stdout",
     "output_type": "stream",
     "text": [
      "koodo done\n",
      "rogers done\n",
      "chatr done\n",
      "fido done\n",
      "telus done\n",
      "public mobile done\n",
      "freedom done\n",
      "tbooth done\n",
      "wireless wave done\n",
      "glentel done\n",
      "lucky mobile done\n",
      "phone plan done\n",
      "data plan done\n",
      "Done\n"
     ]
    }
   ],
   "source": [
    "twitterKeywords=[\"koodo\",'rogers','chatr','fido','telus','public mobile',\n",
    "         'freedom',\"tbooth\",'wireless wave','glentel','lucky mobile','phone plan','data plan']\n",
    "\n",
    "\n",
    "tweet_creation=[]\n",
    "query=[]\n",
    "text=[]\n",
    "retweet_count=[]\n",
    "favorite_count=[]\n",
    "followers=[]\n",
    "screen_name=[]\n",
    "verified=[]\n",
    "account_creation=[]\n",
    "userID=[]\n",
    "\n",
    "    \n",
    "twitterScrape()\n",
    "\n",
    "master=pd.DataFrame({'userID':userID,'tweetCreation':tweet_creation,'query':query,'text':text,'retweets':retweet_count,\n",
    "                    'favorites':favorite_count,'followers':followers,'handle':screen_name,\n",
    "                    'verified':verified,'accountCreation':account_creation})\n",
    "\n",
    "print('Done')"
   ]
  },
  {
   "cell_type": "code",
   "execution_count": 8,
   "metadata": {
    "collapsed": true
   },
   "outputs": [],
   "source": [
    "def twitterScrape():\n",
    "    for j in twitterKeywords:\n",
    "        search=twitter.search.tweets(q=\"\\\"\"+j+\"\\\"\",lang='en',count=100,since_id='2018-03-21')\n",
    "        #print(query['statuses'][0]['user'])\n",
    "        for i in search['statuses']:\n",
    "            if len(i['text'])>10:\n",
    "                tweet_creation.append(i['created_at'])\n",
    "                query.append(j)\n",
    "                text.append(i['text'].lower())\n",
    "                retweet_count.append(i['retweet_count'])\n",
    "                favorite_count.append(i['favorite_count'])\n",
    "                followers.append(i['user']['followers_count'])\n",
    "                screen_name.append(i['user']['screen_name'].lower())\n",
    "                verified.append(i['user']['verified'])\n",
    "                account_creation.append(i['user']['created_at'])\n",
    "                userID.append(i['user']['id'])\n",
    "        \n",
    "        print(j+\" done\")"
   ]
  },
  {
   "cell_type": "code",
   "execution_count": 6,
   "metadata": {},
   "outputs": [
    {
     "data": {
      "text/plain": [
       "{'search_metadata': {'completed_in': 0.022,\n",
       "  'count': 1,\n",
       "  'max_id': 988902935433220097,\n",
       "  'max_id_str': '988902935433220097',\n",
       "  'next_results': '?max_id=988902935433220096&q=%22fido%22&lang=en&count=1&include_entities=1',\n",
       "  'query': '%22fido%22',\n",
       "  'refresh_url': '?since_id=988902935433220097&q=%22fido%22&lang=en&include_entities=1',\n",
       "  'since_id': 0,\n",
       "  'since_id_str': '0'},\n",
       " 'statuses': [{'contributors': None,\n",
       "   'coordinates': None,\n",
       "   'created_at': 'Tue Apr 24 22:10:07 +0000 2018',\n",
       "   'entities': {'hashtags': [],\n",
       "    'symbols': [],\n",
       "    'urls': [{'display_url': 'twitter.com/i/web/status/9…',\n",
       "      'expanded_url': 'https://twitter.com/i/web/status/988902935433220097',\n",
       "      'indices': [116, 139],\n",
       "      'url': 'https://t.co/HHOsxJ49Z2'}],\n",
       "    'user_mentions': []},\n",
       "   'favorite_count': 0,\n",
       "   'favorited': False,\n",
       "   'geo': None,\n",
       "   'id': 988902935433220097,\n",
       "   'id_str': '988902935433220097',\n",
       "   'in_reply_to_screen_name': None,\n",
       "   'in_reply_to_status_id': None,\n",
       "   'in_reply_to_status_id_str': None,\n",
       "   'in_reply_to_user_id': None,\n",
       "   'in_reply_to_user_id_str': None,\n",
       "   'is_quote_status': False,\n",
       "   'lang': 'en',\n",
       "   'metadata': {'iso_language_code': 'en', 'result_type': 'recent'},\n",
       "   'place': None,\n",
       "   'possibly_sensitive': False,\n",
       "   'retweet_count': 0,\n",
       "   'retweeted': False,\n",
       "   'source': '<a href=\"http://www.hootsuite.com\" rel=\"nofollow\">Hootsuite</a>',\n",
       "   'text': 'The FIDO Alliance‘s new FIDO2 standards made a strong showing at this year’s RSA security conference, reports FIDO… https://t.co/HHOsxJ49Z2',\n",
       "   'truncated': True,\n",
       "   'user': {'contributors_enabled': False,\n",
       "    'created_at': 'Fri Sep 06 13:41:57 +0000 2013',\n",
       "    'default_profile': False,\n",
       "    'default_profile_image': False,\n",
       "    'description': 'You News Resource for All The Latest Developments in Mobile ID, mCommerce, Mobile Biometrics, Cloud Identity, IoT, Wearables, Telehealth & More...',\n",
       "    'entities': {'description': {'urls': []},\n",
       "     'url': {'urls': [{'display_url': 'mobileidworld.com',\n",
       "        'expanded_url': 'http://www.mobileidworld.com/',\n",
       "        'indices': [0, 22],\n",
       "        'url': 'http://t.co/9ERDMCzN5I'}]}},\n",
       "    'favourites_count': 151,\n",
       "    'follow_request_sent': False,\n",
       "    'followers_count': 1635,\n",
       "    'following': False,\n",
       "    'friends_count': 1037,\n",
       "    'geo_enabled': False,\n",
       "    'has_extended_profile': False,\n",
       "    'id': 1735172144,\n",
       "    'id_str': '1735172144',\n",
       "    'is_translation_enabled': False,\n",
       "    'is_translator': False,\n",
       "    'lang': 'en-gb',\n",
       "    'listed_count': 173,\n",
       "    'location': 'Toronto',\n",
       "    'name': 'Mobile ID World',\n",
       "    'notifications': False,\n",
       "    'profile_background_color': '000000',\n",
       "    'profile_background_image_url': 'http://abs.twimg.com/images/themes/theme1/bg.png',\n",
       "    'profile_background_image_url_https': 'https://abs.twimg.com/images/themes/theme1/bg.png',\n",
       "    'profile_background_tile': False,\n",
       "    'profile_image_url': 'http://pbs.twimg.com/profile_images/378800000419370630/1d6157fb6d24aed9e0ca257b5ce412d2_normal.png',\n",
       "    'profile_image_url_https': 'https://pbs.twimg.com/profile_images/378800000419370630/1d6157fb6d24aed9e0ca257b5ce412d2_normal.png',\n",
       "    'profile_link_color': '13B7E2',\n",
       "    'profile_sidebar_border_color': '000000',\n",
       "    'profile_sidebar_fill_color': '000000',\n",
       "    'profile_text_color': '000000',\n",
       "    'profile_use_background_image': False,\n",
       "    'protected': False,\n",
       "    'screen_name': 'MobileIDWorld',\n",
       "    'statuses_count': 12478,\n",
       "    'time_zone': 'Eastern Time (US & Canada)',\n",
       "    'translator_type': 'none',\n",
       "    'url': 'http://t.co/9ERDMCzN5I',\n",
       "    'utc_offset': -14400,\n",
       "    'verified': False}}]}"
      ]
     },
     "execution_count": 6,
     "metadata": {},
     "output_type": "execute_result"
    }
   ],
   "source": [
    "twitter.search.tweets(q=\"\\\"\"+'fido'+\"\\\"\",lang='en',count=1)"
   ]
  },
  {
   "cell_type": "code",
   "execution_count": 41,
   "metadata": {},
   "outputs": [
    {
     "data": {
      "text/plain": [
       "Timestamp('2014-06-08 23:40:51')"
      ]
     },
     "execution_count": 41,
     "metadata": {},
     "output_type": "execute_result"
    }
   ],
   "source": [
    "pd.to_datetime(account_creation[0])"
   ]
  },
  {
   "cell_type": "code",
   "execution_count": 5,
   "metadata": {
    "collapsed": true
   },
   "outputs": [],
   "source": [
    "#pd.to_datetime(master.Dates[2])\n",
    "master['accountCreation']=master['accountCreation'].apply(lambda x: pd.to_datetime(x))\n",
    "master['tweetCreation']=master['tweetCreation'].apply(lambda x: pd.to_datetime(x))\n",
    "master['text']=master['text'].apply(lambda x: x.replace('\\n',' ').replace(',',' '))\n",
    "\n",
    "users=master[['userID','accountCreation','followers','handle','verified']]\n",
    "tweets=master[['userID','tweetCreation','query','text','retweets','favorites']]\n",
    "users.to_csv('news/users.csv',index=False)\n",
    "tweets.to_csv('news/tweets.csv',index=False)\n"
   ]
  }
 ],
 "metadata": {
  "kernelspec": {
   "display_name": "Python 3",
   "language": "python",
   "name": "python3"
  },
  "language_info": {
   "codemirror_mode": {
    "name": "ipython",
    "version": 3
   },
   "file_extension": ".py",
   "mimetype": "text/x-python",
   "name": "python",
   "nbconvert_exporter": "python",
   "pygments_lexer": "ipython3",
   "version": "3.6.1"
  }
 },
 "nbformat": 4,
 "nbformat_minor": 2
}
