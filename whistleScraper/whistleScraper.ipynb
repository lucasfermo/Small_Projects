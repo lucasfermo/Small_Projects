{
 "cells": [
  {
   "cell_type": "code",
   "execution_count": 7,
   "metadata": {
    "collapsed": true
   },
   "outputs": [],
   "source": [
    "import os, sys,math,folium\n",
    "import numpy as np\n",
    "import pandas as pd\n",
    "import seaborn as sns\n",
    "%matplotlib inline\n",
    "import matplotlib.pyplot as plt\n",
    "from datetime import datetime\n",
    "plt.style.use('seaborn')\n",
    "from folium.plugins import HeatMap\n",
    "from geopy import geocoders\n",
    "from geopy.geocoders import GoogleV3\n",
    "from folium.plugins import MarkerCluster\n",
    "import bs4,re,requests"
   ]
  },
  {
   "cell_type": "code",
   "execution_count": 144,
   "metadata": {},
   "outputs": [
    {
     "name": "stdout",
     "output_type": "stream",
     "text": [
      "Freedom-Mobile done\n",
      "Koodo-Mobile done\n",
      "Rogers done\n",
      "Fido done\n",
      "Virgin-Mobile done\n",
      "Telus done\n",
      "Bell done\n",
      "Public-Mobile done\n",
      "chatr-wireless done\n"
     ]
    }
   ],
   "source": [
    "sites=[\"http://forums.redflagdeals.com/cell-phones-f88/\"]\n",
    "\n",
    "brands=[\"Freedom-Mobile\",\"Koodo-Mobile\",\"Rogers\",\"Fido\",\"Virgin-Mobile\",\"Telus\",\n",
    "        \"Bell\",\"Public-Mobile\",\"chatr-wireless\"]\n",
    "\n",
    "brand=[]\n",
    "plan=[]\n",
    "price=[]\n",
    "minutes=[]\n",
    "data=[]\n",
    "deals=[]\n",
    "\n",
    "for i in brands:\n",
    "    whistleScrape(i)\n",
    "    print(i + \" done\")\n",
    "    \n",
    "df=pd.DataFrame({\"brand\":brand,\"plan\":plan,\"price\":price,\"minutes\":minutes,\"data\":data})\n",
    "\n",
    "df['data']=df['data'].apply(lambda x: 0 if x==\"No\" else x)\n",
    "df['data']=df['data'].apply(lambda x: x.replace('GB','') if 'G' in str(x) else x) \n",
    "df['data']=df['data'].apply(lambda x: int(x.replace(\"MB\",''))/1000 if 'M' in str(x) else x)\n",
    "\n",
    "df.to_csv('data/compOverview.csv')"
   ]
  },
  {
   "cell_type": "code",
   "execution_count": 111,
   "metadata": {
    "scrolled": true
   },
   "outputs": [],
   "source": [
    "def whistleScrape(brandName):\n",
    "    path=\"https://www.whistleout.ca/CellPhones/Carriers/\"+brandName\n",
    "    res=requests.get(path)\n",
    "    soup=bs4.BeautifulSoup(res.text,'html.parser')\n",
    "    pNum=getLength(soup)\n",
    "    for i in range(pNum): brand.append(brandName)\n",
    "    getBrandPlan(soup,pNum)\n",
    "    #getDeal(soup,pNum)\n",
    "    getMinutes(soup,pNum)\n",
    "    getPrice(soup,pNum)\n",
    "    getData(soup,pNum)\n",
    "    \n",
    "        \n",
    "def getBrandPlan(soup,pNum):\n",
    "    rows=soup.select(\"h2\")\n",
    "    for i in range(1,pNum+1):\n",
    "        temp=str(rows[i+1]).split(\"/span>\")[2]\n",
    "        temp=temp.split(\"<\")[0].strip()\n",
    "        plan.append(temp)\n",
    "        \n",
    "def getDeal(soup,pNum):\n",
    "    rows=soup.find_all('div',{'class':'position-relative'})\n",
    "    for i in range(pNum):\n",
    "        if 'c-green' in str(rows[i]):\n",
    "            print('g')\n",
    "            temp=str(rows[i]).split(\"Offer!\")[1].split(\"data-ht\")[0][:-1]\n",
    "            deals.append(temp)\n",
    "        else:\n",
    "            deals.append(0)\n",
    "        \n",
    "def getMinutes(soup,pNum):\n",
    "    rows=soup.find_all(\"div\",{'class':'font-600'})\n",
    "    for i in range(pNum):\n",
    "        temp=str(rows[i*4])\n",
    "        temp=temp.split(\">\")[1].split(\"<\")[0].strip()\n",
    "        minutes.append(temp)\n",
    "        \n",
    "def getPrice(soup,pNum):\n",
    "    rows=soup.find_all(\"strong\",{'class':'product-price'})\n",
    "    for i in range(pNum):\n",
    "        temp=str(rows[i]).split(\"$\")[1].split('</span>')[1].split('<')[0]\n",
    "        price.append(temp)\n",
    "        \n",
    "def getData(soup,pNum):\n",
    "    rows=soup.find_all(\"div\",{'class':'font-600'})\n",
    "    for i in range(pNum):\n",
    "        temp=str(rows[i*4+2])\n",
    "        temp=temp.split(\">\")[1].split(\"<\")[0].strip()\n",
    "        data.append(temp)\n",
    "            \n",
    "def getLength(soup):\n",
    "    rows=soup.find_all('h3',{'class':'font-800'})\n",
    "    temp=str(rows[0]).split('offers ')[1].split(' plans')[0]\n",
    "    return int(temp)\n",
    "            \n"
   ]
  },
  {
   "cell_type": "code",
   "execution_count": null,
   "metadata": {},
   "outputs": [],
   "source": []
  },
  {
   "cell_type": "code",
   "execution_count": 142,
   "metadata": {},
   "outputs": [
    {
     "data": {
      "text/plain": [
       "0         0\n",
       "1      0.25\n",
       "2         2\n",
       "3        10\n",
       "4         5\n",
       "5        10\n",
       "6        15\n",
       "7        12\n",
       "8        20\n",
       "9        20\n",
       "10        0\n",
       "11        0\n",
       "12     0.25\n",
       "13        0\n",
       "14        0\n",
       "15        0\n",
       "16        1\n",
       "17      0.1\n",
       "18        0\n",
       "19      0.5\n",
       "20        0\n",
       "21        0\n",
       "22        0\n",
       "23        5\n",
       "24        2\n",
       "25      0.5\n",
       "26        0\n",
       "27        5\n",
       "28        6\n",
       "29        1\n",
       "       ... \n",
       "566       3\n",
       "567       3\n",
       "568     1.5\n",
       "569     1.5\n",
       "570      12\n",
       "571       6\n",
       "572       6\n",
       "573       3\n",
       "574       3\n",
       "575     1.5\n",
       "576      18\n",
       "577      12\n",
       "578       9\n",
       "579       6\n",
       "580       6\n",
       "581       3\n",
       "582      18\n",
       "583      12\n",
       "584       9\n",
       "585       6\n",
       "586      18\n",
       "587      15\n",
       "588       9\n",
       "589      15\n",
       "590      15\n",
       "591       0\n",
       "592       0\n",
       "593       0\n",
       "594       0\n",
       "595       0\n",
       "Name: data, Length: 596, dtype: object"
      ]
     },
     "execution_count": 142,
     "metadata": {},
     "output_type": "execute_result"
    }
   ],
   "source": [
    "\n",
    "df.data"
   ]
  }
 ],
 "metadata": {
  "kernelspec": {
   "display_name": "Python 3",
   "language": "python",
   "name": "python3"
  },
  "language_info": {
   "codemirror_mode": {
    "name": "ipython",
    "version": 3
   },
   "file_extension": ".py",
   "mimetype": "text/x-python",
   "name": "python",
   "nbconvert_exporter": "python",
   "pygments_lexer": "ipython3",
   "version": "3.6.1"
  }
 },
 "nbformat": 4,
 "nbformat_minor": 2
}
